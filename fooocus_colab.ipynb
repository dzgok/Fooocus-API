conda env create -f environment.yaml 
conda activate fooocus-api
